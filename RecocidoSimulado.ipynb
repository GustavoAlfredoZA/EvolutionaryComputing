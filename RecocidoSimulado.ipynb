{
  "nbformat": 4,
  "nbformat_minor": 0,
  "metadata": {
    "colab": {
      "name": "RecocidoSimulado.ipynb",
      "provenance": [],
      "collapsed_sections": []
    },
    "kernelspec": {
      "name": "python3",
      "display_name": "Python 3"
    },
    "language_info": {
      "name": "python"
    }
  },
  "cells": [
    {
      "cell_type": "code",
      "metadata": {
        "id": "4jXtz3EX14bY"
      },
      "source": [
        "import random\n",
        "import numpy as np\n",
        "import copy\n",
        "import math"
      ],
      "execution_count": 1,
      "outputs": []
    },
    {
      "cell_type": "code",
      "metadata": {
        "id": "0ahj8GmL69ie"
      },
      "source": [
        "def function(X,P):\n",
        "  return sum(map( lambda x: x[0]*x[1], zip(X,P)))"
      ],
      "execution_count": 2,
      "outputs": []
    },
    {
      "cell_type": "code",
      "metadata": {
        "id": "CM9jWvY47oz7"
      },
      "source": [
        "def g(X, W, c):\n",
        "  return sum(map( lambda x: x[0]*x[1], zip(X,W))) <= c"
      ],
      "execution_count": 3,
      "outputs": []
    },
    {
      "cell_type": "code",
      "metadata": {
        "id": "KtR0DmU5Y0Je"
      },
      "source": [
        "def greedySol(P, W, c):\n",
        "  orgL = []\n",
        "  X = [ 0 for _ in range(len(P))]\n",
        "  for i in range(len(P)):\n",
        "    orgL. append([ i, P[i], W[i] ])\n",
        "  orgL = sorted(orgL, key=lambda x: x[1], reverse = True)\n",
        "  weight = 0\n",
        "  value = 0\n",
        "  for obj in orgL:\n",
        "    if(weight + obj[2] <= c):\n",
        "      X[ obj[0] ] = 1\n",
        "      weight += obj[2]\n",
        "      value += obj[1]\n",
        "  return (X, value, weight)"
      ],
      "execution_count": 4,
      "outputs": []
    },
    {
      "cell_type": "code",
      "metadata": {
        "id": "EVMmG5Jq1qda"
      },
      "source": [
        "def N(X, P, W, c):\n",
        "  NH = []\n",
        "  randomList = random.sample(range(0, len(P)), 5)\n",
        "  for i in randomList:\n",
        "    XN = copy.copy(X)\n",
        "    if(XN[i] == 1):\n",
        "      XN[i] = 0\n",
        "    else:\n",
        "      XN[i] = 1\n",
        "    if( g(XN, W, c) ):\n",
        "      NH.append(XN)\n",
        "  return NH"
      ],
      "execution_count": 5,
      "outputs": []
    },
    {
      "cell_type": "code",
      "metadata": {
        "id": "YIgW0HHnOS9p"
      },
      "source": [
        "def updateT(t):\n",
        "  return t-0.01"
      ],
      "execution_count": 6,
      "outputs": []
    },
    {
      "cell_type": "code",
      "metadata": {
        "id": "mykt4Vt3-OFn"
      },
      "source": [
        "#nfile = input()\n",
        "nfile = 'input.txt'\n",
        "with open(nfile) as f:\n",
        "  Fline = f.readline()\n",
        "  initialT, finalT = Fline.split(' ')\n",
        "  initialT = float(initialT); finalT = float(finalT)\n",
        "  n = int( f.readline() )\n",
        "  c = int( f.readline() )\n",
        "  W = []\n",
        "  P = []\n",
        "  for i in range(n):\n",
        "    line = f.readline()\n",
        "    line = line.split(' ')\n",
        "    P.append( int( line[0] ) )\n",
        "    W.append( int( line[1] ) )"
      ],
      "execution_count": 7,
      "outputs": []
    },
    {
      "cell_type": "code",
      "metadata": {
        "colab": {
          "base_uri": "https://localhost:8080/"
        },
        "id": "u_i2ItqicXWp",
        "outputId": "8006dbc1-4ca1-4b4f-dc56-84cc2489ff12"
      },
      "source": [
        "bestX, bestF, bestW = greedySol(P, W, c)\n",
        "XL = [bestX]\n",
        "t = 0\n",
        "T = [initialT]\n",
        "while (T[t] >= finalT):\n",
        "  NH = N(XL[t], P, W, c)\n",
        "  newX = NH[ random.randint(0,len(NH)-1) ]\n",
        "  if (function(newX, P) > function(bestX, P) ):\n",
        "    bestX = newX\n",
        "    bestF = function(newX,P)\n",
        "  if( function(newX,P) <= function(XL[t], P) or random.random() < math.exp( -(function(newX, P) - function(XL[t], P)) / T[t] )):\n",
        "    XL.append(newX)\n",
        "  else:\n",
        "    XL.append(XL[t])\n",
        "  T.append( updateT(T[t]) )\n",
        "  t += 1\n",
        "result = [ str(c) for c in bestX ]\n",
        "print([ i for i in range(len(bestX)) if bestX[i] == 1 ], ''.join(result))\n",
        "print(bestF)\n",
        "print(bestW)"
      ],
      "execution_count": 8,
      "outputs": [
        {
          "output_type": "stream",
          "text": [
            "[0, 1, 4] 11001\n",
            "42\n",
            "15\n"
          ],
          "name": "stdout"
        }
      ]
    },
    {
      "cell_type": "code",
      "metadata": {
        "id": "yNJU26eOw7PC"
      },
      "source": [
        "def recocidoSimulado(P,W,c, initialT, finalT):\n",
        "  bestX, bestF, bestW = greedySol(P, W, c)\n",
        "  XL = [bestX]\n",
        "  t = 0\n",
        "  T = [initialT]\n",
        "  while (T[t] >= finalT):\n",
        "    NH = N(XL[t], P, W, c)\n",
        "    newX = NH[ random.randint(0,len(NH)-1) ]\n",
        "    if(function(newX, P) > function(bestX, P) ):\n",
        "      bestX = newX\n",
        "      bestF = function(newX,P)\n",
        "    if( function(newX,P) <= function(XL[t], P) or random.random() < math.exp( -(function(newX, P) - function(XL[t], P)) / T[t] )):\n",
        "      XL.append(newX)\n",
        "    else:\n",
        "      XL.append(XL[t])\n",
        "    T.append( updateT(T[t]) )\n",
        "    t += 1\n",
        "  result = [ str(c) for c in bestX ]\n",
        "  \n",
        "  return [ [ i for i in range(len(bestX)) if bestX[i] == 1 ], ''.join(result), bestF, bestW]"
      ],
      "execution_count": 9,
      "outputs": []
    },
    {
      "cell_type": "code",
      "metadata": {
        "colab": {
          "base_uri": "https://localhost:8080/"
        },
        "id": "JxxNgfMMNW20",
        "outputId": "abca7a88-f31b-4f46-f537-bff4e5b5f28f"
      },
      "source": [
        "M = int(input())\n",
        "sList = []\n",
        "for _ in range(M):\n",
        "  sList.append(recocidoSimulado(P,W,c, initialT, finalT))\n",
        "sSortList = np.array(sorted(sList, key=lambda x: x[2], reverse = True))\n",
        "valuesFunc = sSortList[:,2]\n",
        "media = sum(valuesFunc)/len(valuesFunc)\n",
        "varianza = sum([((x - media) ** 2) for x in valuesFunc]) / len(valuesFunc)\n",
        "desviacionEstandar = varianza ** 0.5\n",
        "\n",
        "print('Mejor solucion:\\n', sSortList[-1, 0], sSortList[-1, 1], '\\n', sSortList[-1, 2], '\\n', sSortList[-1, 3])\n",
        "print('\\nPeor solucion:\\n', sSortList[0, 0], sSortList[-1, 1], '\\n', sSortList[0, 2], '\\n', sSortList[0, 3])\n",
        "print('\\nSolucion en la mediana:\\n', sSortList[len(sSortList)//2, 0], sSortList[len(sSortList)//2, 1], '\\n', sSortList[len(sSortList)//2, 2], '\\n', sSortList[len(sSortList)//2, 3])\n",
        "print('\\nMedia del valor de la funcion objetivo:', media)\n",
        "print('\\nDesviacion estandar del valor de la funcion objetivo:', desviacionEstandar)"
      ],
      "execution_count": 10,
      "outputs": [
        {
          "output_type": "stream",
          "text": [
            "10\n",
            "Mejor solucion:\n",
            " [0, 1, 4] 11001 \n",
            " 42 \n",
            " 15\n",
            "\n",
            "Peor solucion:\n",
            " [0, 1, 4] 11001 \n",
            " 42 \n",
            " 15\n",
            "\n",
            "Solucion en la mediana:\n",
            " [0, 1, 4] 11001 \n",
            " 42 \n",
            " 15\n",
            "\n",
            "Media del valor de la funcion objetivo: 42.0\n",
            "\n",
            "Desviacion estandar del valor de la funcion objetivo: 0.0\n"
          ],
          "name": "stdout"
        },
        {
          "output_type": "stream",
          "text": [
            "/usr/local/lib/python3.7/dist-packages/ipykernel_launcher.py:5: VisibleDeprecationWarning: Creating an ndarray from ragged nested sequences (which is a list-or-tuple of lists-or-tuples-or ndarrays with different lengths or shapes) is deprecated. If you meant to do this, you must specify 'dtype=object' when creating the ndarray\n",
            "  \"\"\"\n"
          ],
          "name": "stderr"
        }
      ]
    },
    {
      "cell_type": "code",
      "metadata": {
        "id": "HI5x_7lubw96"
      },
      "source": [
        ""
      ],
      "execution_count": 10,
      "outputs": []
    }
  ]
}