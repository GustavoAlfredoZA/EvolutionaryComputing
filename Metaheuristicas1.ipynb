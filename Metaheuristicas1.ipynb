{
  "nbformat": 4,
  "nbformat_minor": 0,
  "metadata": {
    "colab": {
      "name": "Metaheuristicas1.ipynb",
      "provenance": [],
      "collapsed_sections": []
    },
    "kernelspec": {
      "name": "python3",
      "display_name": "Python 3"
    }
  },
  "cells": [
    {
      "cell_type": "markdown",
      "metadata": {
        "id": "Qfsf5uNDulTY"
      },
      "source": [
        "10\r\n",
        "\r\n",
        "100\r\n",
        "\r\n",
        "49 30 53 72 19 76 87 45 48\r\n",
        "\r\n",
        "19 38 32 31 75 69 61 25\r\n",
        "\r\n",
        "41 98 56 6 6 45 53\r\n",
        "\r\n",
        "52 29 46 90 23 98\r\n",
        "\r\n",
        "63 90 69 50 82\r\n",
        "\r\n",
        "60 88 41 95\r\n",
        "\r\n",
        "61 92 10 \r\n",
        "\r\n",
        "82 73\r\n",
        "\r\n",
        "5\r\n",
        "\r\n"
      ]
    },
    {
      "cell_type": "code",
      "metadata": {
        "id": "U4PDnqu-ht-i"
      },
      "source": [
        "import copy\r\n",
        "import random\r\n",
        "import numpy as np"
      ],
      "execution_count": 1,
      "outputs": []
    },
    {
      "cell_type": "code",
      "metadata": {
        "id": "EI5ONR1NBH6h"
      },
      "source": [
        "#archivo = input()\r\n",
        "#M = int(input())\r\n",
        "M = 100"
      ],
      "execution_count": 2,
      "outputs": []
    },
    {
      "cell_type": "code",
      "metadata": {
        "id": "HTGX9PyFt3LV"
      },
      "source": [
        "#with open(archivo) as f:\r\n",
        "with open('input.txt') as f:\r\n",
        "  N = int(f.readline())\r\n",
        "  iMax = int(f.readline())\r\n",
        "  costos = [ [ 0 for _ in range(N)] for __ in range(N) ]\r\n",
        "  for i in range(N-1):\r\n",
        "    line = f.readline()\r\n",
        "    line = line.split(' ')\r\n",
        "    for j in range(i+1,N):\r\n",
        "      costos[i][j] = int(line.pop(0)) \r\n",
        "      costos[j][i] = costos[i][j]"
      ],
      "execution_count": 3,
      "outputs": []
    },
    {
      "cell_type": "markdown",
      "metadata": {
        "id": "L78Aj7CC4dBI"
      },
      "source": [
        "### Greedy"
      ]
    },
    {
      "cell_type": "code",
      "metadata": {
        "id": "9Ccjf1mc_GML"
      },
      "source": [
        "def buscarMin(fila,indice, disponibles):\r\n",
        "  cfila = copy.deepcopy(fila)\r\n",
        "  cfila.pop(indice)\r\n",
        "  while True:\r\n",
        "      pIndice = cfila.index( min(cfila) )\r\n",
        "      costo = min(cfila)\r\n",
        "      if fila.index(cfila[pIndice]) in disponibles:\r\n",
        "        return (fila.index(cfila[pIndice]), costo)\r\n",
        "      else:\r\n",
        "        cfila.pop(pIndice)"
      ],
      "execution_count": 4,
      "outputs": []
    },
    {
      "cell_type": "code",
      "metadata": {
        "id": "MlTNj_EN4c0h"
      },
      "source": [
        "def greedy(costos,N):\r\n",
        "  actual = 0\r\n",
        "  disponibles = [ i for i in range(1,N)]\r\n",
        "  solucion = [0]\r\n",
        "  costoT = 0\r\n",
        "  copiaCostos = costos\r\n",
        "  for i in range(9):\r\n",
        "      actual, costoA = buscarMin( costos[actual] , actual, disponibles)\r\n",
        "      costoT += costoA\r\n",
        "      solucion.append(actual)\r\n",
        "      disponibles.remove(actual)\r\n",
        "  costoT += costos[0][7]\r\n",
        "  return (solucion, costoT)"
      ],
      "execution_count": 5,
      "outputs": []
    },
    {
      "cell_type": "markdown",
      "metadata": {
        "id": "A0PSQCOgp6Ou"
      },
      "source": [
        "## Busqueda Tabu"
      ]
    },
    {
      "cell_type": "code",
      "metadata": {
        "id": "dtCcjg-KquVL"
      },
      "source": [
        "def calcularCosto(costos, solucionT):\r\n",
        "  costoC = 0\r\n",
        "  for i in range(len(solucionT)-1):\r\n",
        "    costoC += costos[solucionT[i]][solucionT[i+1]]\r\n",
        "  costoC += costos[solucionT[-1]][solucionT[0]]\r\n",
        "  return costoC"
      ],
      "execution_count": 6,
      "outputs": []
    },
    {
      "cell_type": "code",
      "metadata": {
        "id": "BamotmIf5aJP"
      },
      "source": [
        "def busquedaTabu(costos,solucion,costoT):\r\n",
        "  mSolucion = copy.deepcopy(solucion)\r\n",
        "  mCosto = copy.deepcopy(costoT)\r\n",
        "  ListaTabu = np.array([[0,0,2]])\r\n",
        "  mVecindario = copy.deepcopy(solucion)\r\n",
        "  mCostoVecindario = 999999\r\n",
        "  pAnterior = 0\r\n",
        "  jAnterior = 0\r\n",
        "  p = random.randint(0,N-1)\r\n",
        "\r\n",
        "  for i in range(iMax):\r\n",
        "      vecindario = []\r\n",
        "      ListaTabu[:,2] -= 1\r\n",
        "      ListaTabu = ListaTabu[ListaTabu[:,2] != 0]\r\n",
        "      p = random.randint(0,N-1)  \r\n",
        "      for j in range(N-1):\r\n",
        "        if [p, j] in ListaTabu[:,0:2].tolist() or [j, p] in ListaTabu[:,0:2].tolist() or p==j :\r\n",
        "          pass\r\n",
        "        else:\r\n",
        "          solucionSwap = copy.deepcopy(mVecindario)\r\n",
        "          solucionSwap[p], solucionSwap[j] = solucionSwap[j],solucionSwap[p]\r\n",
        "          sc = calcularCosto(costos, solucionSwap)\r\n",
        "          if sc < mCostoVecindario:\r\n",
        "            mVecindario = solucionSwap\r\n",
        "            mCostoVecindario = sc\r\n",
        "            jAnterior = j\r\n",
        "            if sc < mCosto:\r\n",
        "              mSolucion = solucionSwap\r\n",
        "              mCosto = sc\r\n",
        "      pAnterior = p\r\n",
        "      ListaTabu = np.vstack((ListaTabu,[p,j,2])) \r\n",
        "  #print(str(mSolucion)[1:-1])\r\n",
        "  #print(mCosto)\r\n",
        "  return (mSolucion, mCosto)"
      ],
      "execution_count": 7,
      "outputs": []
    },
    {
      "cell_type": "code",
      "metadata": {
        "colab": {
          "base_uri": "https://localhost:8080/"
        },
        "id": "YtE9RPBu_S7S",
        "outputId": "2fb9265a-603a-4320-fb1b-88598bccfba6"
      },
      "source": [
        "listaCostos = []\r\n",
        "listaSoluciones = []\r\n",
        "for m in range(M):\r\n",
        "  solucionG, costoG = greedy(costos,N)\r\n",
        "  solucionBT, costoBT = busquedaTabu(costos, solucionG,costoG)\r\n",
        "  listaSoluciones.append(solucionBT)\r\n",
        "  listaCostos.append(costoBT)\r\n",
        "\r\n",
        "listaSolucionesOrdenadas = [ [x,y] for y,x in sorted(zip(listaCostos,listaSoluciones))]\r\n",
        "media=sum(listaCostos)/len(listaCostos)\r\n",
        "varianza = sum([((x - media) ** 2) for x in listaCostos]) / len(listaCostos)\r\n",
        "desviacionEstandar = varianza ** 0.5\r\n",
        "\r\n",
        "print(\"Mejor solucion:\", str(listaSolucionesOrdenadas[0][0])[1:-1], \" costo:\", listaSolucionesOrdenadas[0][1])\r\n",
        "print(\"Peor Solucion:\", str(listaSolucionesOrdenadas[-1][0])[1:-1], \" costo:\", listaSolucionesOrdenadas[-1][1])\r\n",
        "print(\"Solucion en la mediana:\", str(listaSolucionesOrdenadas[len(listaSolucionesOrdenadas)//2][0])[1:-1], \" costo:\", listaSolucionesOrdenadas[len(listaSolucionesOrdenadas)//2][1])\r\n",
        "print(\"Media del valor de la funcion objetivo:\", media)\r\n",
        "print(\"Desviación estandar de la funcion objetivo:\", desviacionEstandar)\r\n",
        "\r\n"
      ],
      "execution_count": 11,
      "outputs": [
        {
          "output_type": "stream",
          "text": [
            "Mejor solucion: 0, 5, 3, 8, 9, 6, 2, 7, 4, 1  costo: 248\n",
            "Peor Solucion: 0, 5, 3, 8, 9, 6, 2, 1, 4, 7  costo: 299\n",
            "Solucion en la mediana: 4, 7, 2, 6, 9, 8, 3, 5, 0, 1  costo: 248\n",
            "Media del valor de la funcion objetivo: 268.68\n",
            "Desviación estandar de la funcion objetivo: 22.656072033783797\n"
          ],
          "name": "stdout"
        }
      ]
    },
    {
      "cell_type": "code",
      "metadata": {
        "id": "3QmirYJnJNbj"
      },
      "source": [
        ""
      ],
      "execution_count": 8,
      "outputs": []
    }
  ]
}